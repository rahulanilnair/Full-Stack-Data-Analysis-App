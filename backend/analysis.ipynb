{
 "cells": [
  {
   "cell_type": "code",
   "execution_count": 5,
   "id": "fb07fbce",
   "metadata": {},
   "outputs": [],
   "source": [
    "import pandas as pd\n",
    "import seaborn as sb\n",
    "financial_data_df=pd.read_csv('C:/Users/rahul/Downloads/Full-Stack-Data-Analysis-App/backend/data/wayne_financial_data.csv')\n",
    "financial_data_df=financial_data_df.fillna(0)\n",
    "rdportfolio_data_df=pd.read_csv('C:/Users/rahul/Downloads/Full-Stack-Data-Analysis-App/backend/data/wayne_rd_portfolio.csv')\n",
    "rdportfolio_data_df=rdportfolio_data_df.fillna(0)\n",
    "hr_df=pd.read_csv('C:/Users/rahul/Downloads/Full-Stack-Data-Analysis-App/backend/data/wayne_hr_analytics.csv')\n",
    "hr_df=hr_df.fillna(0)\n",
    "security_df=pd.read_csv('C:/Users/rahul/Downloads/Full-Stack-Data-Analysis-App/backend/data/wayne_security_data.csv')\n",
    "security_df=security_df.fillna(0)\n",
    "supply_chain_df=pd.read_csv('C:/Users/rahul/Downloads/Full-Stack-Data-Analysis-App/backend/data/wayne_supply_chain.csv')\n",
    "supply_chain_df=supply_chain_df.fillna(0)\n",
    "\n"
   ]
  },
  {
   "cell_type": "code",
   "execution_count": 32,
   "id": "5e29d832",
   "metadata": {},
   "outputs": [],
   "source": [
    "import seaborn as sb\n",
    "revenue_trends=financial_data_df.groupby(['Division','Year']).Revenue_M.sum().reset_index()"
   ]
  },
  {
   "cell_type": "code",
   "execution_count": 33,
   "id": "d5c217e0",
   "metadata": {},
   "outputs": [
    {
     "data": {
      "text/html": [
       "<div>\n",
       "<style scoped>\n",
       "    .dataframe tbody tr th:only-of-type {\n",
       "        vertical-align: middle;\n",
       "    }\n",
       "\n",
       "    .dataframe tbody tr th {\n",
       "        vertical-align: top;\n",
       "    }\n",
       "\n",
       "    .dataframe thead th {\n",
       "        text-align: right;\n",
       "    }\n",
       "</style>\n",
       "<table border=\"1\" class=\"dataframe\">\n",
       "  <thead>\n",
       "    <tr style=\"text-align: right;\">\n",
       "      <th></th>\n",
       "      <th>Division</th>\n",
       "      <th>Year</th>\n",
       "      <th>Revenue_M</th>\n",
       "    </tr>\n",
       "  </thead>\n",
       "  <tbody>\n",
       "    <tr>\n",
       "      <th>0</th>\n",
       "      <td>Wayne Aerospace</td>\n",
       "      <td>2023</td>\n",
       "      <td>5702.4</td>\n",
       "    </tr>\n",
       "    <tr>\n",
       "      <th>1</th>\n",
       "      <td>Wayne Aerospace</td>\n",
       "      <td>2024</td>\n",
       "      <td>7101.7</td>\n",
       "    </tr>\n",
       "    <tr>\n",
       "      <th>2</th>\n",
       "      <td>Wayne Applied Sciences</td>\n",
       "      <td>2023</td>\n",
       "      <td>3442.2</td>\n",
       "    </tr>\n",
       "    <tr>\n",
       "      <th>3</th>\n",
       "      <td>Wayne Applied Sciences</td>\n",
       "      <td>2024</td>\n",
       "      <td>4432.3</td>\n",
       "    </tr>\n",
       "    <tr>\n",
       "      <th>4</th>\n",
       "      <td>Wayne Biotech</td>\n",
       "      <td>2023</td>\n",
       "      <td>4427.4</td>\n",
       "    </tr>\n",
       "    <tr>\n",
       "      <th>5</th>\n",
       "      <td>Wayne Biotech</td>\n",
       "      <td>2024</td>\n",
       "      <td>5632.1</td>\n",
       "    </tr>\n",
       "    <tr>\n",
       "      <th>6</th>\n",
       "      <td>Wayne Construction</td>\n",
       "      <td>2023</td>\n",
       "      <td>9812.6</td>\n",
       "    </tr>\n",
       "    <tr>\n",
       "      <th>7</th>\n",
       "      <td>Wayne Construction</td>\n",
       "      <td>2024</td>\n",
       "      <td>12102.3</td>\n",
       "    </tr>\n",
       "    <tr>\n",
       "      <th>8</th>\n",
       "      <td>Wayne Foundation</td>\n",
       "      <td>2023</td>\n",
       "      <td>837.4</td>\n",
       "    </tr>\n",
       "    <tr>\n",
       "      <th>9</th>\n",
       "      <td>Wayne Foundation</td>\n",
       "      <td>2024</td>\n",
       "      <td>1192.0</td>\n",
       "    </tr>\n",
       "  </tbody>\n",
       "</table>\n",
       "</div>"
      ],
      "text/plain": [
       "                 Division  Year  Revenue_M\n",
       "0         Wayne Aerospace  2023     5702.4\n",
       "1         Wayne Aerospace  2024     7101.7\n",
       "2  Wayne Applied Sciences  2023     3442.2\n",
       "3  Wayne Applied Sciences  2024     4432.3\n",
       "4           Wayne Biotech  2023     4427.4\n",
       "5           Wayne Biotech  2024     5632.1\n",
       "6      Wayne Construction  2023     9812.6\n",
       "7      Wayne Construction  2024    12102.3\n",
       "8        Wayne Foundation  2023      837.4\n",
       "9        Wayne Foundation  2024     1192.0"
      ]
     },
     "execution_count": 33,
     "metadata": {},
     "output_type": "execute_result"
    }
   ],
   "source": [
    "revenue_trends"
   ]
  },
  {
   "cell_type": "code",
   "execution_count": null,
   "id": "3f1cd121",
   "metadata": {},
   "outputs": [],
   "source": []
  }
 ],
 "metadata": {
  "kernelspec": {
   "display_name": "base",
   "language": "python",
   "name": "python3"
  },
  "language_info": {
   "codemirror_mode": {
    "name": "ipython",
    "version": 3
   },
   "file_extension": ".py",
   "mimetype": "text/x-python",
   "name": "python",
   "nbconvert_exporter": "python",
   "pygments_lexer": "ipython3",
   "version": "3.12.4"
  }
 },
 "nbformat": 4,
 "nbformat_minor": 5
}
